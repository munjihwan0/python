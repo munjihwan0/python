{
  "nbformat": 4,
  "nbformat_minor": 0,
  "metadata": {
    "colab": {
      "provenance": [],
      "authorship_tag": "ABX9TyOLJU8+hnMgDu0ArIj+Jhf8",
      "include_colab_link": true
    },
    "kernelspec": {
      "name": "python3",
      "display_name": "Python 3"
    },
    "language_info": {
      "name": "python"
    }
  },
  "cells": [
    {
      "cell_type": "markdown",
      "metadata": {
        "id": "view-in-github",
        "colab_type": "text"
      },
      "source": [
        "<a href=\"https://colab.research.google.com/github/munjihwan0/python/blob/main/%EA%B3%BC%EC%A0%9C4.ipynb\" target=\"_parent\"><img src=\"https://colab.research.google.com/assets/colab-badge.svg\" alt=\"Open In Colab\"/></a>"
      ]
    },
    {
      "cell_type": "code",
      "execution_count": 7,
      "metadata": {
        "colab": {
          "base_uri": "https://localhost:8080/"
        },
        "id": "_pkg77UXTg4B",
        "outputId": "77247f4b-5168-4b42-e7dc-ad0de36173d8"
      },
      "outputs": [
        {
          "output_type": "stream",
          "name": "stdout",
          "text": [
            "11600\n"
          ]
        }
      ],
      "source": [
        "samgim = 900\n",
        "bananamilk = 1800\n",
        "dosirak1 = 3500\n",
        "dosirak2 = 4000\n",
        "coke = 1500\n",
        "ggang = 2000\n",
        "cancofe = 1800\n",
        "purchase1 = samgim * 10\n",
        "sale1 = bananamilk = 1800 * 2\n",
        "purchase2 = dosirak1 * 5\n",
        "sale2 = dosirak2 = 4000 * 4\n",
        "sale3 = coke = 1500 * 1\n",
        "sale4 = ggang = 2000 * 4\n",
        "sale5 = cancofe = 1800 * 5\n",
        "\n",
        "total = (sale1 + sale2 + sale3 + sale4 + sale5) - (purchase1 + purchase2) \n",
        "\n",
        "print(total)\n"
      ]
    }
  ]
}