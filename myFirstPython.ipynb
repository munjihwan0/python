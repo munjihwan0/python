{
  "nbformat": 4,
  "nbformat_minor": 0,
  "metadata": {
    "colab": {
      "provenance": [],
      "authorship_tag": "ABX9TyN0BfIVf22+Xfge5qbyqMAf",
      "include_colab_link": true
    },
    "kernelspec": {
      "name": "python3",
      "display_name": "Python 3"
    },
    "language_info": {
      "name": "python"
    }
  },
  "cells": [
    {
      "cell_type": "markdown",
      "metadata": {
        "id": "view-in-github",
        "colab_type": "text"
      },
      "source": [
        "<a href=\"https://colab.research.google.com/github/munjihwan0/python/blob/main/myFirstPython.ipynb\" target=\"_parent\"><img src=\"https://colab.research.google.com/assets/colab-badge.svg\" alt=\"Open In Colab\"/></a>"
      ]
    },
    {
      "cell_type": "markdown",
      "source": [
        "2023학년도 응용프로그래밍 화면구현  \n",
        "파이썬 기초"
      ],
      "metadata": {
        "id": "A_Y0O27JiZGJ"
      }
    },
    {
      "cell_type": "code",
      "source": [
        "print(\"안산공업고등학교\")  \n",
        "print(\"컴퓨터과 3학년 1반 9번 문지환\")  \n",
        "print(\"파이썬 기초 수업\") "
      ],
      "metadata": {
        "colab": {
          "base_uri": "https://localhost:8080/"
        },
        "id": "bOXXkORJiP0p",
        "outputId": "cd4f01db-e81c-41b1-c34b-7f5b4f2a4b0e"
      },
      "execution_count": 5,
      "outputs": [
        {
          "output_type": "stream",
          "name": "stdout",
          "text": [
            "안산공업고등학교\n",
            "컴퓨터과 3학년 1반 9번 문지환\n",
            "파이썬 기초 수업\n"
          ]
        }
      ]
    }
  ]
}