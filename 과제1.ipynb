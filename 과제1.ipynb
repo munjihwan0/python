{
  "nbformat": 4,
  "nbformat_minor": 0,
  "metadata": {
    "colab": {
      "provenance": [],
      "authorship_tag": "ABX9TyNJ1hr89kqatm6UuipdaxEK",
      "include_colab_link": true
    },
    "kernelspec": {
      "name": "python3",
      "display_name": "Python 3"
    },
    "language_info": {
      "name": "python"
    }
  },
  "cells": [
    {
      "cell_type": "markdown",
      "metadata": {
        "id": "view-in-github",
        "colab_type": "text"
      },
      "source": [
        "<a href=\"https://colab.research.google.com/github/munjihwan0/python/blob/main/%EA%B3%BC%EC%A0%9C1.ipynb\" target=\"_parent\"><img src=\"https://colab.research.google.com/assets/colab-badge.svg\" alt=\"Open In Colab\"/></a>"
      ]
    },
    {
      "cell_type": "code",
      "execution_count": 2,
      "metadata": {
        "colab": {
          "base_uri": "https://localhost:8080/"
        },
        "id": "TY0XW7xwVR_t",
        "outputId": "440f40b6-bd04-4f54-8d6b-db1c646db7e1"
      },
      "outputs": [
        {
          "output_type": "stream",
          "name": "stdout",
          "text": [
            "## 택배를 보내기 위한 정보를 입력하세요 ##\n",
            "받는 사람:문지환\n",
            "주소:안신시\n",
            "무게(g):721\n",
            "** 받는 사람 ==> 문지환\n",
            "** 주소 ==> 안신시\n",
            "** 배송비 ==> 3605 원\n"
          ]
        }
      ],
      "source": [
        "print(\"## 택배를 보내기 위한 정보를 입력하세요 ##\")\n",
        "recieve_name = input(\"받는 사람:\")\n",
        "address = input(\"주소:\")\n",
        "weight = input(\"무게(g):\")\n",
        "weight = int(weight)\n",
        "print(\"** 받는 사람 ==>\", recieve_name)\n",
        "print(\"** 주소 ==>\", address)\n",
        "print(\"** 배송비 ==>\",weight * 5,\"원\")\n"
      ]
    }
  ]
}