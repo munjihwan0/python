{
  "nbformat": 4,
  "nbformat_minor": 0,
  "metadata": {
    "colab": {
      "provenance": [],
      "authorship_tag": "ABX9TyMvNerlTmJAJLErOGvI6LPh",
      "include_colab_link": true
    },
    "kernelspec": {
      "name": "python3",
      "display_name": "Python 3"
    },
    "language_info": {
      "name": "python"
    }
  },
  "cells": [
    {
      "cell_type": "markdown",
      "metadata": {
        "id": "view-in-github",
        "colab_type": "text"
      },
      "source": [
        "<a href=\"https://colab.research.google.com/github/munjihwan0/python/blob/main/%EA%B3%BC%EC%A0%9C5.ipynb\" target=\"_parent\"><img src=\"https://colab.research.google.com/assets/colab-badge.svg\" alt=\"Open In Colab\"/></a>"
      ]
    },
    {
      "cell_type": "code",
      "execution_count": 3,
      "metadata": {
        "colab": {
          "base_uri": "https://localhost:8080/"
        },
        "id": "AYI_lP9LVsqz",
        "outputId": "9d15e69a-3e49-4652-b652-70d177f99e4b"
      },
      "outputs": [
        {
          "output_type": "stream",
          "name": "stdout",
          "text": [
            "정보처리기능사 실기 점수 입력 : 59\n",
            "불합격\n"
          ]
        }
      ],
      "source": [
        "score = int(input(\"정보처리기능사 실기 점수 입력 : \"))\n",
        "\n",
        "if score >= 60 :\n",
        "  print(\"합격\")\n",
        "  print(\"축하합니다.\")\n",
        "else : \n",
        "  print(\"불합격\")"
      ]
    },
    {
      "cell_type": "code",
      "source": [
        "# 한줄 주석문 연습\n",
        "\"\"\"\n",
        "프로그래밍 수업 : 3월 20일\n",
        "프로그래머 : 문지환\n",
        "프로그램 최종 작성일 : 3월 20일\n",
        "프로그램명 : 프로그래밍 연습\n",
        "\"\"\"\n",
        "\n",
        "print(\"파이썬(3) : B(3.5) \\n\")\n",
        "print(\"모바일(2) : A0(4.0) \\n\")\n",
        "print(\"엑셀(1) : A(4.5)\")\n",
        "python = float(input(\"파이썬 성적을 입력(예,3.0)\"))\n",
        "mobile = float(input(\"모바일 성적을 입력 : \"))\n",
        "excel = float(input(\"엑셀 성적을 입력 : \"))\n",
        "\n",
        "result = (python * 3) + (mobile * 2) + excel\n",
        "avg = result / 6\n",
        "\n",
        "print(\"평균 학점은\", round(avg, 3))"
      ],
      "metadata": {
        "colab": {
          "base_uri": "https://localhost:8080/"
        },
        "id": "AVpI6djDYEO9",
        "outputId": "90f5e83e-ff23-4f6c-8ab1-d191a261f4c2"
      },
      "execution_count": 6,
      "outputs": [
        {
          "output_type": "stream",
          "name": "stdout",
          "text": [
            "파이썬(3) : B(3.5) \n",
            "\n",
            "모바일(2) : A0(4.0) \n",
            "\n",
            "엑셀(1) : A(4.5)\n",
            "파이썬 성적을 입력(예,3.0)3.5\n",
            "모바일 성적을 입력 : 4.0\n",
            "엑셀 성적을 입력 : 4.5\n",
            "평균 학점은 3.833\n"
          ]
        }
      ]
    },
    {
      "cell_type": "code",
      "source": [
        "print(\"\\n줄바꿈\\n연습\")\n",
        "print(\"\\t탭키\\t연습\")\n",
        "print(\"어떤 글자를 \\\"강조\\\"하는 효과1\")\n",
        "print(\"어떤 글자를 \\'강조\\'하는 효과2\")\n",
        "print(\"\\\\\\\\ 백슬래시 2개 출력\")"
      ],
      "metadata": {
        "colab": {
          "base_uri": "https://localhost:8080/"
        },
        "id": "deWvcMADbIwl",
        "outputId": "9b52002a-21d8-411e-ae62-7a14b5c65223"
      },
      "execution_count": 7,
      "outputs": [
        {
          "output_type": "stream",
          "name": "stdout",
          "text": [
            "\n",
            "줄바꿈\n",
            "연습\n",
            "\t탭키\t연습\n",
            "어떤 글자를 \"강조\"하는 효과1\n",
            "어떤 글자를 '강조'하는 효과2\n",
            "\\\\ 백슬래시 2개 출력\n"
          ]
        }
      ]
    },
    {
      "cell_type": "code",
      "source": [
        "firstString = input(\"첫번째 문자열 : \")\n",
        "secondString = input(\"두번째 문자열 : \")\n",
        "\n",
        "len1 = len(firstString)\n",
        "len2 = len(secondString)\n",
        "\n",
        "length = len1 - len2\n",
        "\n",
        "print(length)"
      ],
      "metadata": {
        "colab": {
          "base_uri": "https://localhost:8080/"
        },
        "id": "1LT5StUTd1If",
        "outputId": "1f3ac5f0-402f-49bf-f76d-c66667910647"
      },
      "execution_count": 12,
      "outputs": [
        {
          "output_type": "stream",
          "name": "stdout",
          "text": [
            "첫번째 문자열 : 0000\n",
            "두번째 문자열 : 0\n",
            "3\n"
          ]
        }
      ]
    },
    {
      "cell_type": "code",
      "source": [
        "str1 = \"\"\"\n",
        "안산공업고등학교 컴퓨터과, 안산공업고등학교는\n",
        "기계과, 전기과, 전자과, 화공과, 디자인과, 컴퓨터과로 총6개의 \n",
        "과로 이뤄져있습니다.\n",
        "\"\"\"\n",
        "strLen = str1.count(\"안산\")\n",
        "print(strLen)\n",
        "\n",
        "str2 = \"\"\"\n",
        "When I find myself in times of trouble, Mother Mary comes to me\n",
        "Speaking words of wisdom, let it be\n",
        "And in my hour of darkness she is standing right in front of me\n",
        "Speaking words of wisdom, let it be\n",
        "Let it be, let it be, let it be, let it be\n",
        "Whisper words of wisdom, let it be\n",
        "And when the broken hearted people living in the world agree\n",
        "There will be an answer, let it be\n",
        "For though they may be parted, there is still a chance that they will see\n",
        "There will be an answer, let it be\n",
        "Let it be, let it be, let it be, let it be\n",
        "There will be an answer, let it be\n",
        "Let it be, let it be, let it be, let it be\n",
        "Whisper words of wisdom, let it be\n",
        "Let it be, let it be, let it be, let it be\n",
        "Whisper words of wisdom, let it be, be\n",
        "And when the night is cloudy there is still a light that shines on me\n",
        "Shinin' until tomorrow, let it be\n",
        "I wake up to the sound of music, Mother Mary comes to me\n",
        "Speaking words of wisdom, let it be\n",
        "And let it be, let it be, let it be, let it be\n",
        "Whisper words of wisdom, let it be\n",
        "And let it be, let it be, let it be, let it be\n",
        "Whisper words of wisdom, let it be\n",
        "\"\"\"\n",
        "\n",
        "lyrics = str2.upper()\n",
        "strLen2 = lyrics.count(\"LET IT BE\")\n",
        "print(strLen2)"
      ],
      "metadata": {
        "colab": {
          "base_uri": "https://localhost:8080/"
        },
        "id": "DjmMce-4ieVQ",
        "outputId": "171caf6e-930b-44e3-a183-a58be9b2e463"
      },
      "execution_count": 17,
      "outputs": [
        {
          "output_type": "stream",
          "name": "stdout",
          "text": [
            "2\n",
            "36\n"
          ]
        }
      ]
    }
  ]
}