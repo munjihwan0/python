{
  "nbformat": 4,
  "nbformat_minor": 0,
  "metadata": {
    "colab": {
      "provenance": [],
      "authorship_tag": "ABX9TyNd2sRL8QOxfZ8rczBmD/wV",
      "include_colab_link": true
    },
    "kernelspec": {
      "name": "python3",
      "display_name": "Python 3"
    },
    "language_info": {
      "name": "python"
    }
  },
  "cells": [
    {
      "cell_type": "markdown",
      "metadata": {
        "id": "view-in-github",
        "colab_type": "text"
      },
      "source": [
        "<a href=\"https://colab.research.google.com/github/munjihwan0/python/blob/main/%EA%B3%BC%EC%A0%9C11.ipynb\" target=\"_parent\"><img src=\"https://colab.research.google.com/assets/colab-badge.svg\" alt=\"Open In Colab\"/></a>"
      ]
    },
    {
      "cell_type": "code",
      "execution_count": 3,
      "metadata": {
        "colab": {
          "base_uri": "https://localhost:8080/"
        },
        "id": "O3ZFqR3ienmN",
        "outputId": "c09233cb-b3e4-4a66-8fb5-bcd36f13aed7"
      },
      "outputs": [
        {
          "output_type": "stream",
          "name": "stdout",
          "text": [
            "숫자 : 10\n",
            "숫자 : 20\n",
            "숫자 : 30\n",
            "숫자 : 40\n",
            "숫자 : 50\n",
            "리스트의 합계 : 150\n"
          ]
        }
      ],
      "source": [
        "numList = [0,0,0,0,0]\n",
        "\n",
        "numList[0] = input(\"숫자 : \")\n",
        "numList[1] = input(\"숫자 : \")\n",
        "numList[2] = input(\"숫자 : \")\n",
        "numList[3] = input(\"숫자 : \")\n",
        "numList[4] = input(\"숫자 : \")\n",
        "\n",
        "sum = int(numList[0]) + int(numList[1]) + int(numList[2]) + int(numList[3]) + int(numList[4])\n",
        "print(\"리스트의 합계 :\", sum)"
      ]
    },
    {
      "cell_type": "code",
      "source": [
        "myList = []\n",
        "\n",
        "myList.append(\"안산\")\n",
        "myList.append(\"공고\")\n",
        "myList.append(3109)\n",
        "myList.append(777)\n",
        "\n",
        "print(myList)"
      ],
      "metadata": {
        "colab": {
          "base_uri": "https://localhost:8080/"
        },
        "id": "OYftlekgo5Bo",
        "outputId": "8ef32781-34af-4acd-b1dd-c43d23beb0db"
      },
      "execution_count": 6,
      "outputs": [
        {
          "output_type": "stream",
          "name": "stdout",
          "text": [
            "['안산', '공고', 3109, 777]\n"
          ]
        }
      ]
    },
    {
      "cell_type": "code",
      "source": [
        "import random\n",
        "wissSay = [\"중요한 것은 꺽기지 않는 마음이다\",\n",
        "           \"너 자신을 알라\",\n",
        "           \" 피할 수 없으면 즐겨라\",\n",
        "           \"신은 용기있는 자를 결코 버리지 않는다\",\n",
        "           \"내일은 내일의 태양이 뜬다\",\n",
        "           \"이 또한 지나가리라.\"]\n",
        "rnd_say = random.choice(wissSay)\n",
        "print(\"오늘의 명언 ==> \", rnd_say)"
      ],
      "metadata": {
        "colab": {
          "base_uri": "https://localhost:8080/"
        },
        "id": "pilzmMQdu_TY",
        "outputId": "74fcd8e8-a8a3-45f2-ed26-a02972370756"
      },
      "execution_count": 9,
      "outputs": [
        {
          "output_type": "stream",
          "name": "stdout",
          "text": [
            "오늘의 명언 ==>  중요한 것은 꺽기지 않는 마음이다\n"
          ]
        }
      ]
    }
  ]
}