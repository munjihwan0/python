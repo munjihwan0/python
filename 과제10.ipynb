{
  "nbformat": 4,
  "nbformat_minor": 0,
  "metadata": {
    "colab": {
      "provenance": [],
      "authorship_tag": "ABX9TyNWM9xaTVHaXDoOOjSeMmBQ",
      "include_colab_link": true
    },
    "kernelspec": {
      "name": "python3",
      "display_name": "Python 3"
    },
    "language_info": {
      "name": "python"
    }
  },
  "cells": [
    {
      "cell_type": "markdown",
      "metadata": {
        "id": "view-in-github",
        "colab_type": "text"
      },
      "source": [
        "<a href=\"https://colab.research.google.com/github/munjihwan0/python/blob/main/%EA%B3%BC%EC%A0%9C10.ipynb\" target=\"_parent\"><img src=\"https://colab.research.google.com/assets/colab-badge.svg\" alt=\"Open In Colab\"/></a>"
      ]
    },
    {
      "cell_type": "code",
      "execution_count": 53,
      "metadata": {
        "colab": {
          "base_uri": "https://localhost:8080/"
        },
        "id": "SsTPcg_EP0oi",
        "outputId": "084172f8-3dc6-44ae-aaf0-1697610e6316"
      },
      "outputs": [
        {
          "output_type": "stream",
          "name": "stdout",
          "text": [
            "주사위 3개가 모두  3 이다.\n",
            "같은 숫자가 나오기 까지  151 번 던졌다.\n"
          ]
        }
      ],
      "source": [
        "import random\n",
        "count = 0\n",
        "while True :\n",
        "  dice1 = random.randint(1,6)\n",
        "  dice2 = random.randint(1,6)\n",
        "  dice3 = random.randint(1,6)\n",
        "  count = count + 1\n",
        "  if dice1 == dice2 == dice3 :\n",
        "    print(\"주사위 3개가 모두 \", dice1, \"이다.\")\n",
        "    print(\"같은 숫자가 나오기 까지 \", count, \"번 던졌다.\")\n",
        "    break"
      ]
    },
    {
      "cell_type": "code",
      "source": [
        "import random\n",
        "\n",
        "gamecount = 1\n",
        "computer_num = 0\n",
        "player = 0\n",
        "while gamecount <= 10 :\n",
        "  computer_num = random.randint(1,5)\n",
        "  print(\"제\", gamecount, \"회 :\", end=\"  \")\n",
        "  player = int(input(\"컴퓨터가 생각한 숫자는 ? \"))\n",
        "  gamecount = gamecount + 1\n",
        "  if computer_num != player :\n",
        "    print(\"오답\", computer_num, \"다시해라\")\n",
        "  elif computer_num == player :\n",
        "    print(\"정답\")\n",
        "    break"
      ],
      "metadata": {
        "colab": {
          "base_uri": "https://localhost:8080/"
        },
        "id": "9HT_eYroR5bu",
        "outputId": "365d10e8-4e0b-45cd-bac8-1ed74205ac65"
      },
      "execution_count": 67,
      "outputs": [
        {
          "output_type": "stream",
          "name": "stdout",
          "text": [
            "제 1 회 :  컴퓨터가 생각한 숫자는 ? 2\n",
            "오답 3 다시해라\n",
            "제 2 회 :  컴퓨터가 생각한 숫자는 ? 3\n",
            "오답 4 다시해라\n",
            "제 3 회 :  컴퓨터가 생각한 숫자는 ? 3\n",
            "오답 5 다시해라\n",
            "제 4 회 :  컴퓨터가 생각한 숫자는 ? 1\n",
            "오답 5 다시해라\n",
            "제 5 회 :  컴퓨터가 생각한 숫자는 ? 2\n",
            "오답 5 다시해라\n",
            "제 6 회 :  컴퓨터가 생각한 숫자는 ? 5\n",
            "오답 3 다시해라\n",
            "제 7 회 :  컴퓨터가 생각한 숫자는 ? 3\n",
            "오답 5 다시해라\n",
            "제 8 회 :  컴퓨터가 생각한 숫자는 ? 54\n",
            "오답 5 다시해라\n",
            "제 9 회 :  컴퓨터가 생각한 숫자는 ? 5\n",
            "오답 1 다시해라\n",
            "제 10 회 :  컴퓨터가 생각한 숫자는 ? 5\n",
            "오답 3 다시해라\n"
          ]
        }
      ]
    },
    {
      "cell_type": "code",
      "source": [
        "import random\n",
        "\n",
        "rnd_num = [1,2,3,4,5,6,7,8,9]\n",
        "\n",
        "r1 = random.choice(rnd_num)\n",
        "rnd_num.remove(r1)\n",
        "\n",
        "print(\"리스트 : \", rnd_num)\n",
        "print(\"랜덤값 : \", r1)"
      ],
      "metadata": {
        "colab": {
          "base_uri": "https://localhost:8080/"
        },
        "id": "UrB3PV8EW8Uu",
        "outputId": "21872b73-7ede-4804-b4cd-6e02715d404f"
      },
      "execution_count": 71,
      "outputs": [
        {
          "output_type": "stream",
          "name": "stdout",
          "text": [
            "리스트 :  [1, 2, 3, 4, 5, 6, 7, 9]\n",
            "랜덤값 :  8\n"
          ]
        }
      ]
    },
    {
      "cell_type": "code",
      "source": [
        "import random\n",
        "game_count = 1\n",
        "secret_number = random.sample(range(1,10),3) # range()\n",
        "print(secret_number)\n",
        "while game_count <= 10 :\n",
        "  strike = 0\n",
        "  ball = 0\n",
        "  player_number = input(\"3자리 숫자를 입력 :\")\n",
        "  player_number = list(player_number)\n",
        "  player_number[0] = int(player_number[0])\n",
        "  player_number[1] = int(player_number[1])\n",
        "  player_number[2] = int(player_number[2])\n",
        "\n",
        "  if (secret_number[0] == player_number[0]) :\n",
        "    strike = strike + 1\n",
        "  elif player_number[0] in secret_number :\n",
        "    ball = ball + 1\n",
        "  if (secret_number[1] == player_number[1]) :\n",
        "    strike = strike + 1\n",
        "  elif player_number[1] in secret_number :\n",
        "    ball = ball + 1\n",
        "  if (secret_number[2] == player_number[2]) :\n",
        "    strike = strike + 1\n",
        "  elif player_number[2] in secret_number :\n",
        "    ball = ball + 1\n",
        "     \n",
        "  print(strike, \"-스트라이크  //  \", ball, \"-볼\")\n",
        "  if strike == 3 :\n",
        "     print(\"맞췄습니다 ^0^\")\n",
        "     break\n"
      ],
      "metadata": {
        "colab": {
          "base_uri": "https://localhost:8080/"
        },
        "id": "ieAPoQNGZVsu",
        "outputId": "f1fa9283-6264-4119-df9a-b25920ad5322"
      },
      "execution_count": 80,
      "outputs": [
        {
          "output_type": "stream",
          "name": "stdout",
          "text": [
            "[5, 3, 4]\n",
            "3자리 숫자를 입력 :534\n",
            "3 -스트라이크  //   0 -볼\n",
            "맞췄습니다 ^0^\n"
          ]
        }
      ]
    }
  ]
}