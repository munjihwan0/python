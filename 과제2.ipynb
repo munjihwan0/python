{
  "nbformat": 4,
  "nbformat_minor": 0,
  "metadata": {
    "colab": {
      "provenance": [],
      "authorship_tag": "ABX9TyOrSqYXK4ZzMuD1zckCxdI/",
      "include_colab_link": true
    },
    "kernelspec": {
      "name": "python3",
      "display_name": "Python 3"
    },
    "language_info": {
      "name": "python"
    }
  },
  "cells": [
    {
      "cell_type": "markdown",
      "metadata": {
        "id": "view-in-github",
        "colab_type": "text"
      },
      "source": [
        "<a href=\"https://colab.research.google.com/github/munjihwan0/python/blob/main/%EA%B3%BC%EC%A0%9C2.ipynb\" target=\"_parent\"><img src=\"https://colab.research.google.com/assets/colab-badge.svg\" alt=\"Open In Colab\"/></a>"
      ]
    },
    {
      "cell_type": "code",
      "execution_count": 5,
      "metadata": {
        "id": "29f_OmDQGrcG",
        "colab": {
          "base_uri": "https://localhost:8080/"
        },
        "outputId": "fa4dcf33-78bf-4e29-8b25-51fe3fca19aa"
      },
      "outputs": [
        {
          "output_type": "stream",
          "name": "stdout",
          "text": [
            "첫번째 정수 입력 : 100\n",
            "두번째 정수 입력 : 10\n",
            "100 + 10 = 110\n",
            "100 - 10 = 90\n",
            "100 * 10 = 1000\n",
            "100 / 10 = 10.0\n",
            "100 % 10 = 0\n",
            "100 ** 10 = 100000000000000000000\n"
          ]
        }
      ],
      "source": [
        "num1 = int(input(\"첫번째 정수 입력 : \"))\n",
        "num2 = int(input(\"두번째 정수 입력 : \"))\n",
        "\n",
        "sum = num1 + num2\n",
        "min = num1 - num2\n",
        "qwe = num1 * num2\n",
        "asd = num1 / num2\n",
        "zxc = num1 % num2\n",
        "rty = num1 ** num2\n",
        "print(num1, \"+\", num2, \"=\", sum)\n",
        "print(num1, \"-\", num2, \"=\", min)\n",
        "print(num1, \"*\", num2, \"=\", qwe)\n",
        "print(num1, \"/\", num2, \"=\", asd)\n",
        "print(num1, \"%\", num2, \"=\", zxc)\n",
        "print(num1, \"**\", num2, \"=\", rty)"
      ]
    }
  ]
}